{
 "cells": [
  {
   "cell_type": "markdown",
   "metadata": {},
   "source": [
    "# Reshaping, Reorganizing and Aggregation"
   ]
  },
  {
   "cell_type": "code",
   "execution_count": 1,
   "metadata": {
    "collapsed": false
   },
   "outputs": [],
   "source": [
    "# import pandas and NumPy\n",
    "import pandas as pd\n",
    "import numpy as np\n",
    "\n",
    "# date and time functions\n",
    "import datetime\n",
    "\n",
    "# bring in matplotlib and draw inline\n",
    "import matplotlib.pyplot as plt\n",
    "%matplotlib inline\n",
    "\n",
    "# Set some Pandas options\n",
    "pd.set_option('display.notebook_repr_html', False)\n",
    "pd.set_option('display.max_columns', 15)\n",
    "pd.set_option('display.max_rows', 8)\n",
    "pd.set_option('precision', 3)"
   ]
  },
  {
   "cell_type": "markdown",
   "metadata": {},
   "source": [
    "## Loading historical stock data from the web or from files"
   ]
  },
  {
   "cell_type": "markdown",
   "metadata": {},
   "source": [
    "### From Web"
   ]
  },
  {
   "cell_type": "code",
   "execution_count": 2,
   "metadata": {
    "collapsed": false
   },
   "outputs": [
    {
     "name": "stderr",
     "output_type": "stream",
     "text": [
      "/Users/kevin/python/anaconda/envs/timbr/lib/python2.7/site-packages/pandas/io/data.py:35: FutureWarning: \n",
      "The pandas.io.data module is moved to a separate package (pandas-datareader) and will be removed from pandas in a future version.\n",
      "After installing the pandas-datareader package (https://github.com/pydata/pandas-datareader), you can change the import ``from pandas.io import data, wb`` to ``from pandas_datareader import data, wb``.\n",
      "  FutureWarning)\n"
     ]
    }
   ],
   "source": [
    "# for the DataReader\n",
    "import pandas.io.data as web\n",
    "\n",
    "# start end end dates\n",
    "start = datetime.datetime(2012, 1, 1)\n",
    "end = datetime.datetime(2012, 12, 30)\n",
    "\n",
    "# load the data\n",
    "msft = web.DataReader(\"MSFT\", 'yahoo', start, end)\n",
    "aapl = web.DataReader(\"AAPL\", 'yahoo', start, end)\n"
   ]
  },
  {
   "cell_type": "code",
   "execution_count": 3,
   "metadata": {
    "collapsed": true
   },
   "outputs": [],
   "source": [
    "# these save the data to file - optional for the examples\n",
    "#msft.to_csv(\"msft.csv\")\n",
    "#aapl.to_csv(\"aapl.csv\")"
   ]
  },
  {
   "cell_type": "markdown",
   "metadata": {},
   "source": [
    "### From file"
   ]
  },
  {
   "cell_type": "code",
   "execution_count": 4,
   "metadata": {
    "collapsed": false
   },
   "outputs": [],
   "source": [
    "# read the Microsoft and Apple data from file\n",
    "msft = pd.read_csv(\"msft.csv\", index_col=0, parse_dates=True)\n",
    "aapl = pd.read_csv(\"aapl.csv\", index_col=0, parse_dates=True)"
   ]
  },
  {
   "cell_type": "code",
   "execution_count": 5,
   "metadata": {
    "collapsed": false
   },
   "outputs": [
    {
     "data": {
      "text/plain": [
       "             Open   High    Low  Close    Volume  Adj Close\n",
       "Date                                                       \n",
       "2012-01-03  26.55  26.96  26.39  26.77  64731500     23.462\n",
       "2012-01-04  26.82  27.47  26.78  27.40  80516100     24.014\n",
       "2012-01-05  27.38  27.73  27.29  27.68  56081400     24.259\n",
       "2012-01-06  27.53  28.19  27.53  28.11  99455500     24.636\n",
       "...           ...    ...    ...    ...       ...        ...\n",
       "2012-12-24  27.20  27.25  27.00  27.06  20842400     24.387\n",
       "2012-12-26  27.03  27.20  26.70  26.86  31631100     24.206\n",
       "2012-12-27  26.89  27.09  26.57  26.96  39394000     24.297\n",
       "2012-12-28  26.71  26.90  26.55  26.55  28239900     23.927\n",
       "\n",
       "[249 rows x 6 columns]"
      ]
     },
     "execution_count": 5,
     "metadata": {},
     "output_type": "execute_result"
    }
   ],
   "source": [
    "msft"
   ]
  },
  {
   "cell_type": "markdown",
   "metadata": {},
   "source": [
    "### Organizing the data for the examples"
   ]
  },
  {
   "cell_type": "code",
   "execution_count": 6,
   "metadata": {
    "collapsed": false
   },
   "outputs": [
    {
     "data": {
      "text/plain": [
       "             Open   High    Low  Close    Volume  Adj Close\n",
       "Date                                                       \n",
       "2012-01-03  26.55  26.96  26.39  26.77  64731500     23.462\n",
       "2012-01-04  26.82  27.47  26.78  27.40  80516100     24.014\n",
       "2012-01-05  27.38  27.73  27.29  27.68  56081400     24.259"
      ]
     },
     "execution_count": 6,
     "metadata": {},
     "output_type": "execute_result"
    }
   ],
   "source": [
    "msft[:3]"
   ]
  },
  {
   "cell_type": "code",
   "execution_count": 8,
   "metadata": {
    "collapsed": false
   },
   "outputs": [
    {
     "data": {
      "text/plain": [
       "              Open    High     Low   Close    Volume  Adj Close\n",
       "Date                                                           \n",
       "2012-01-03  409.40  412.50  409.00  411.23  75555200     53.785\n",
       "2012-01-04  410.00  414.68  409.28  413.44  65005500     54.074\n",
       "2012-01-05  414.95  418.55  412.67  418.03  67817400     54.674"
      ]
     },
     "execution_count": 8,
     "metadata": {},
     "output_type": "execute_result"
    }
   ],
   "source": [
    "aapl[:3]"
   ]
  },
  {
   "cell_type": "markdown",
   "metadata": {},
   "source": [
    "# Reorganizing and reshaping data"
   ]
  },
  {
   "cell_type": "markdown",
   "metadata": {},
   "source": [
    "## Concatenating data in Multiple DataFrame objects"
   ]
  },
  {
   "cell_type": "code",
   "execution_count": 9,
   "metadata": {
    "collapsed": false
   },
   "outputs": [
    {
     "data": {
      "text/plain": [
       "            Adj Close\n",
       "Date                 \n",
       "2012-01-03     23.462\n",
       "2012-01-04     24.014\n",
       "2012-01-05     24.259"
      ]
     },
     "execution_count": 9,
     "metadata": {},
     "output_type": "execute_result"
    }
   ],
   "source": [
    "# get MSFT adjusted close data for Jan and Feb 2012\n",
    "msftA01 = msft['2012-01'][['Adj Close']]\n",
    "msftA02 = msft['2012-02'][['Adj Close']]\n",
    "msftA01[:3]"
   ]
  },
  {
   "cell_type": "code",
   "execution_count": 10,
   "metadata": {
    "collapsed": false
   },
   "outputs": [
    {
     "data": {
      "text/plain": [
       "            Adj Close\n",
       "Date                 \n",
       "2012-02-01     26.196\n",
       "2012-02-02     26.249\n",
       "2012-02-03     26.503"
      ]
     },
     "execution_count": 10,
     "metadata": {},
     "output_type": "execute_result"
    }
   ],
   "source": [
    "msftA02[:3]"
   ]
  },
  {
   "cell_type": "code",
   "execution_count": 11,
   "metadata": {
    "collapsed": false
   },
   "outputs": [
    {
     "data": {
      "text/plain": [
       "            Adj Close\n",
       "Date                 \n",
       "2012-01-03     23.462\n",
       "2012-01-04     24.014\n",
       "2012-01-05     24.259\n",
       "2012-02-01     26.196\n",
       "2012-02-02     26.249\n",
       "2012-02-03     26.503"
      ]
     },
     "execution_count": 11,
     "metadata": {},
     "output_type": "execute_result"
    }
   ],
   "source": [
    "# combine the first three rows of each of msftA01 and msftA02\n",
    "pd.concat([msftA01.head(3), msftA02.head(3)])"
   ]
  },
  {
   "cell_type": "code",
   "execution_count": 12,
   "metadata": {
    "collapsed": false
   },
   "outputs": [
    {
     "data": {
      "text/plain": [
       "            Adj Close\n",
       "Date                 \n",
       "2012-01-03     23.462\n",
       "2012-01-04     24.014\n",
       "2012-01-05     24.259\n",
       "2012-01-03     53.785\n",
       "2012-01-04     54.074\n",
       "2012-01-05     54.674"
      ]
     },
     "execution_count": 12,
     "metadata": {},
     "output_type": "execute_result"
    }
   ],
   "source": [
    "# Extract only the Jan 2012 AAPL values.  \n",
    "aaplA01 = aapl['2012-01'][['Adj Close']]\n",
    "# now concat the AAPL and MSFT Jan 2012 data\n",
    "# there will be duplicate index labels\n",
    "withDups = pd.concat([msftA01[:3], aaplA01[:3]])\n",
    "withDups"
   ]
  },
  {
   "cell_type": "code",
   "execution_count": 10,
   "metadata": {
    "collapsed": false
   },
   "outputs": [
    {
     "data": {
      "text/plain": [
       "            Adj Close\n",
       "Date                 \n",
       "2012-01-03      24.42\n",
       "2012-01-03      55.41"
      ]
     },
     "execution_count": 10,
     "metadata": {},
     "output_type": "execute_result"
    }
   ],
   "source": [
    "# show the two records for data of 2012-01-03\n",
    "withDups.ix['2012-01-03']"
   ]
  },
  {
   "cell_type": "code",
   "execution_count": 13,
   "metadata": {
    "collapsed": false
   },
   "outputs": [
    {
     "data": {
      "text/plain": [
       "                 Adj Close\n",
       "     Date                 \n",
       "MSFT 2012-01-03     23.462\n",
       "     2012-01-04     24.014\n",
       "     2012-01-05     24.259\n",
       "AAPL 2012-01-03     53.785\n",
       "     2012-01-04     54.074\n",
       "     2012-01-05     54.674"
      ]
     },
     "execution_count": 13,
     "metadata": {},
     "output_type": "execute_result"
    }
   ],
   "source": [
    "# demonstrate concat with a specification of the \n",
    "# stock tickets being part of the index\n",
    "# this help disambiguate the duplicate dates using\n",
    "# a hierarchal index\n",
    "closes = pd.concat([msftA01[:3], aaplA01[:3]], \n",
    "                    keys=['MSFT', 'AAPL'])\n",
    "closes"
   ]
  },
  {
   "cell_type": "code",
   "execution_count": 14,
   "metadata": {
    "collapsed": false
   },
   "outputs": [
    {
     "data": {
      "text/plain": [
       "            Adj Close\n",
       "Date                 \n",
       "2012-01-03     23.462\n",
       "2012-01-04     24.014\n",
       "2012-01-05     24.259"
      ]
     },
     "execution_count": 14,
     "metadata": {},
     "output_type": "execute_result"
    }
   ],
   "source": [
    "# extract just MSFT values using .ix\n",
    "closes.ix['MSFT'][:3]"
   ]
  },
  {
   "cell_type": "code",
   "execution_count": 15,
   "metadata": {
    "collapsed": false
   },
   "outputs": [
    {
     "data": {
      "text/plain": [
       "            Adj Close     Volume\n",
       "Date                            \n",
       "2012-01-03     23.462   64731500\n",
       "2012-01-04     24.014   80516100\n",
       "2012-01-05     24.259   56081400\n",
       "2012-01-06     24.636   99455500\n",
       "...               ...        ...\n",
       "2012-12-24     68.637   43938300\n",
       "2012-12-26     67.691   75609100\n",
       "2012-12-27     67.963  113780100\n",
       "2012-12-28     67.241   88569600\n",
       "\n",
       "[498 rows x 2 columns]"
      ]
     },
     "execution_count": 15,
     "metadata": {},
     "output_type": "execute_result"
    }
   ],
   "source": [
    "# demonstrate concatenation using two DataFrame's\n",
    "# that each have two columns.  pandas will align the\n",
    "# data in columns by the column names (labels)\n",
    "msftAV = msft[['Adj Close', 'Volume']]\n",
    "aaplAV = aapl[['Adj Close', 'Volume']]\n",
    "pd.concat([msftAV, aaplAV])"
   ]
  },
  {
   "cell_type": "code",
   "execution_count": 16,
   "metadata": {
    "collapsed": false
   },
   "outputs": [
    {
     "data": {
      "text/plain": [
       "            Adj Close     Volume\n",
       "Date                            \n",
       "2012-01-03     23.462  6.473e+07\n",
       "2012-01-04     24.014  8.052e+07\n",
       "2012-01-05     24.259  5.608e+07\n",
       "2012-01-06     24.636  9.946e+07\n",
       "...               ...        ...\n",
       "2012-12-24     68.637        NaN\n",
       "2012-12-26     67.691        NaN\n",
       "2012-12-27     67.963        NaN\n",
       "2012-12-28     67.241        NaN\n",
       "\n",
       "[498 rows x 2 columns]"
      ]
     },
     "execution_count": 16,
     "metadata": {},
     "output_type": "execute_result"
    }
   ],
   "source": [
    "# demonstrate concatenation with DataFrame objects\n",
    "# that do not have the same set of columns\n",
    "# this demonstrates pandas filling in NaN values\n",
    "aaplA = aapl[['Adj Close']]\n",
    "pd.concat([msftAV, aaplA])"
   ]
  },
  {
   "cell_type": "code",
   "execution_count": 17,
   "metadata": {
    "collapsed": false
   },
   "outputs": [
    {
     "data": {
      "text/plain": [
       "            Adj Close\n",
       "Date                 \n",
       "2012-01-03     23.462\n",
       "2012-01-04     24.014\n",
       "2012-01-05     24.259\n",
       "2012-01-06     24.636\n",
       "...               ...\n",
       "2012-12-24     68.637\n",
       "2012-12-26     67.691\n",
       "2012-12-27     67.963\n",
       "2012-12-28     67.241\n",
       "\n",
       "[498 rows x 1 columns]"
      ]
     },
     "execution_count": 17,
     "metadata": {},
     "output_type": "execute_result"
    }
   ],
   "source": [
    "# perform an inner join on the DataFrame's\n",
    "# since aaplA does not have a Volume column, pandas\n",
    "# will not include that column in the result\n",
    "pd.concat([msftAV, aaplA], join='inner')"
   ]
  },
  {
   "cell_type": "code",
   "execution_count": 18,
   "metadata": {
    "collapsed": false
   },
   "outputs": [
    {
     "data": {
      "text/plain": [
       "            Adj Close  Adj Close\n",
       "Date                            \n",
       "2012-01-03     23.462     53.785\n",
       "2012-01-04     24.014     54.074\n",
       "2012-01-05     24.259     54.674"
      ]
     },
     "execution_count": 18,
     "metadata": {},
     "output_type": "execute_result"
    }
   ],
   "source": [
    "# concat along the rows, causing duplicate columns to\n",
    "# be created in the result\n",
    "msftA = msft[['Adj Close']]\n",
    "closes = pd.concat([msftA, aaplA], axis=1)\n",
    "closes[:3]"
   ]
  },
  {
   "cell_type": "code",
   "execution_count": 19,
   "metadata": {
    "collapsed": false
   },
   "outputs": [
    {
     "data": {
      "text/plain": [
       "                MSFT                AAPL           \n",
       "           Adj Close    Volume Adj Close     Volume\n",
       "Date                                               \n",
       "2012-01-03    23.462  64731500    53.785  7.556e+07\n",
       "2012-01-04    24.014  80516100    54.074  6.501e+07\n",
       "2012-01-05    24.259  56081400    54.674  6.782e+07\n",
       "2012-01-06    24.636  99455500       NaN        NaN\n",
       "2012-01-09    24.312  59706800       NaN        NaN"
      ]
     },
     "execution_count": 19,
     "metadata": {},
     "output_type": "execute_result"
    }
   ],
   "source": [
    "# concat along rows using two DataFrame objects with\n",
    "# different number of rows. This demonstrates how\n",
    "# NaN values will be filled in those rows for AAPL\n",
    "# which only hase three rows as compared to 5 for MSFT\n",
    "pd.concat([msftAV[:5], aaplAV[:3]], axis=1,\n",
    "          keys=['MSFT', 'AAPL'])"
   ]
  },
  {
   "cell_type": "code",
   "execution_count": 20,
   "metadata": {
    "collapsed": false
   },
   "outputs": [
    {
     "data": {
      "text/plain": [
       "                MSFT      AAPL\n",
       "           Adj Close Adj Close\n",
       "Date                          \n",
       "2012-01-03    23.462    53.785\n",
       "2012-01-04    24.014    54.074\n",
       "2012-01-05    24.259    54.674"
      ]
     },
     "execution_count": 20,
     "metadata": {},
     "output_type": "execute_result"
    }
   ],
   "source": [
    "# inner join can also be used along this axis\n",
    "# this will not include rows with index labels that do\n",
    "# not exist in both DataFrame objects\n",
    "pd.concat([msftA[:5], aaplA[:3]], axis=1,\n",
    "          join='inner', keys=['MSFT', 'AAPL'])"
   ]
  },
  {
   "cell_type": "code",
   "execution_count": 21,
   "metadata": {
    "collapsed": false
   },
   "outputs": [
    {
     "data": {
      "text/plain": [
       "   Adj Close\n",
       "0     23.462\n",
       "1     24.014\n",
       "2     24.259\n",
       "3     53.785\n",
       "4     54.074\n",
       "5     54.674"
      ]
     },
     "execution_count": 21,
     "metadata": {},
     "output_type": "execute_result"
    }
   ],
   "source": [
    "# ignore indexes and just concatenate the data and\n",
    "# have the result have a default integer index\n",
    "pd.concat([msftA[:3], aaplA[:3]], ignore_index=True)"
   ]
  },
  {
   "cell_type": "markdown",
   "metadata": {},
   "source": [
    "## Merging DataFrame objects"
   ]
  },
  {
   "cell_type": "code",
   "execution_count": 22,
   "metadata": {
    "collapsed": false
   },
   "outputs": [
    {
     "data": {
      "text/plain": [
       "        Date  Adj Close\n",
       "0 2012-01-03     23.462\n",
       "1 2012-01-04     24.014\n",
       "2 2012-01-05     24.259"
      ]
     },
     "execution_count": 22,
     "metadata": {},
     "output_type": "execute_result"
    }
   ],
   "source": [
    "# we will merge these two DataFrame objects, \n",
    "# so lets peek at the data to remind ourselves\n",
    "# of what they contain\n",
    "msftAR = msftA.reset_index()\n",
    "msftVR = msft[['Volume']].reset_index()\n",
    "msftAR[:3]"
   ]
  },
  {
   "cell_type": "code",
   "execution_count": 23,
   "metadata": {
    "collapsed": false
   },
   "outputs": [
    {
     "data": {
      "text/plain": [
       "        Date    Volume\n",
       "0 2012-01-03  64731500\n",
       "1 2012-01-04  80516100\n",
       "2 2012-01-05  56081400"
      ]
     },
     "execution_count": 23,
     "metadata": {},
     "output_type": "execute_result"
    }
   ],
   "source": [
    "msftVR[:3]"
   ]
  },
  {
   "cell_type": "code",
   "execution_count": 24,
   "metadata": {
    "collapsed": false
   },
   "outputs": [
    {
     "data": {
      "text/plain": [
       "        Date  Adj Close    Volume\n",
       "0 2012-01-03     23.462  64731500\n",
       "1 2012-01-04     24.014  80516100\n",
       "2 2012-01-05     24.259  56081400\n",
       "3 2012-01-06     24.636  99455500\n",
       "4 2012-01-09     24.312  59706800"
      ]
     },
     "execution_count": 24,
     "metadata": {},
     "output_type": "execute_result"
    }
   ],
   "source": [
    "# merge the two.  pandas finds the columns in common,\n",
    "# in this case Date, and merges on that column and adds\n",
    "# a column for all the other columns in both DataFrame's\n",
    "msftCVR = pd.merge(msftAR, msftVR)\n",
    "msftCVR[:5]"
   ]
  },
  {
   "cell_type": "code",
   "execution_count": 27,
   "metadata": {
    "collapsed": false
   },
   "outputs": [
    {
     "data": {
      "text/plain": [
       "        Date  Adj Close\n",
       "0 2012-01-03     23.462\n",
       "1 2012-01-04     24.014\n",
       "2 2012-01-05     24.259\n",
       "3 2012-01-06     24.636\n",
       "4 2012-01-09     24.312"
      ]
     },
     "execution_count": 27,
     "metadata": {},
     "output_type": "execute_result"
    }
   ],
   "source": [
    "# we will demonstrate join semantics using this DataFrame\n",
    "msftAR0_5 = msftAR[0:5]\n",
    "msftAR0_5"
   ]
  },
  {
   "cell_type": "code",
   "execution_count": 28,
   "metadata": {
    "collapsed": false
   },
   "outputs": [
    {
     "data": {
      "text/plain": [
       "        Date    Volume\n",
       "2 2012-01-05  56081400\n",
       "3 2012-01-06  99455500"
      ]
     },
     "execution_count": 28,
     "metadata": {},
     "output_type": "execute_result"
    }
   ],
   "source": [
    "# and also this one\n",
    "msftVR2_4 = msftVR[2:4]\n",
    "msftVR2_4"
   ]
  },
  {
   "cell_type": "code",
   "execution_count": 29,
   "metadata": {
    "collapsed": false
   },
   "outputs": [
    {
     "data": {
      "text/plain": [
       "        Date  Adj Close    Volume\n",
       "0 2012-01-05     24.259  56081400\n",
       "1 2012-01-06     24.636  99455500"
      ]
     },
     "execution_count": 29,
     "metadata": {},
     "output_type": "execute_result"
    }
   ],
   "source": [
    "# merge semantics using default inner join\n",
    "pd.merge(msftAR0_5, msftVR2_4)"
   ]
  },
  {
   "cell_type": "code",
   "execution_count": 30,
   "metadata": {
    "collapsed": false
   },
   "outputs": [
    {
     "data": {
      "text/plain": [
       "        Date  Adj Close     Volume\n",
       "0 2012-01-03     23.462        NaN\n",
       "1 2012-01-04     24.014        NaN\n",
       "2 2012-01-05     24.259  5.608e+07\n",
       "3 2012-01-06     24.636  9.946e+07\n",
       "4 2012-01-09     24.312        NaN"
      ]
     },
     "execution_count": 30,
     "metadata": {},
     "output_type": "execute_result"
    }
   ],
   "source": [
    "# same joing but using\n",
    "pd.merge(msftAR0_5, msftVR2_4, how='outer')"
   ]
  },
  {
   "cell_type": "markdown",
   "metadata": {},
   "source": [
    "## Pivoting"
   ]
  },
  {
   "cell_type": "code",
   "execution_count": 31,
   "metadata": {
    "collapsed": false
   },
   "outputs": [
    {
     "data": {
      "text/plain": [
       "        Date Symbol    Open    High     Low   Close    Volume  Adj Close\n",
       "0 2012-01-03   MSFT   26.55   26.96   26.39   26.77  64731500     23.462\n",
       "1 2012-01-03   AAPL  409.40  412.50  409.00  411.23  75555200     53.785\n",
       "2 2012-01-04   MSFT   26.82   27.47   26.78   27.40  80516100     24.014\n",
       "3 2012-01-04   AAPL  410.00  414.68  409.28  413.44  65005500     54.074\n",
       "4 2012-01-05   MSFT   27.38   27.73   27.29   27.68  56081400     24.259"
      ]
     },
     "execution_count": 31,
     "metadata": {},
     "output_type": "execute_result"
    }
   ],
   "source": [
    "# need to insert Symbol column before combining\n",
    "msft.insert(0, 'Symbol', 'MSFT')\n",
    "aapl.insert(0, 'Symbol', 'AAPL')\n",
    "\n",
    "# concatenate the MSFT and AAPL data\n",
    "# index will consist of the Date column, which we will sort\n",
    "combined = pd.concat([msft, aapl]).sort_index()\n",
    "\n",
    "# this pushes the index into a column and resets to a \n",
    "# default integer index\n",
    "s4p = combined.reset_index();\n",
    "s4p[:5]"
   ]
  },
  {
   "cell_type": "code",
   "execution_count": 32,
   "metadata": {
    "collapsed": false
   },
   "outputs": [
    {
     "data": {
      "text/plain": [
       "Symbol        AAPL    MSFT\n",
       "Date                      \n",
       "2012-01-03  53.785  23.462\n",
       "2012-01-04  54.074  24.014\n",
       "2012-01-05  54.674  24.259"
      ]
     },
     "execution_count": 32,
     "metadata": {},
     "output_type": "execute_result"
    }
   ],
   "source": [
    "# pivot Date into the Index, make the columns match the\n",
    "# unique values in the Symbol column, and the values \n",
    "# will be the AdjClose values\n",
    "closes = s4p.pivot(index='Date', columns='Symbol', \n",
    "                   values='Adj Close')\n",
    "closes[:3]"
   ]
  },
  {
   "cell_type": "markdown",
   "metadata": {},
   "source": [
    "## Stacking and Unstacking"
   ]
  },
  {
   "cell_type": "code",
   "execution_count": 33,
   "metadata": {
    "collapsed": false
   },
   "outputs": [
    {
     "data": {
      "text/plain": [
       "Date        Symbol\n",
       "2012-01-03  AAPL      53.785\n",
       "            MSFT      23.462\n",
       "2012-01-04  AAPL      54.074\n",
       "            MSFT      24.014\n",
       "                       ...  \n",
       "2012-12-27  AAPL      67.963\n",
       "            MSFT      24.297\n",
       "2012-12-28  AAPL      67.241\n",
       "            MSFT      23.927\n",
       "dtype: float64"
      ]
     },
     "execution_count": 33,
     "metadata": {},
     "output_type": "execute_result"
    }
   ],
   "source": [
    "# stack the first level of columns into the index\n",
    "# essentially, moves AAPL and MSFT into the index\n",
    "# leaving a single colum which is the AdjClose values\n",
    "stackedCloses = closes.stack()\n",
    "stackedCloses"
   ]
  },
  {
   "cell_type": "code",
   "execution_count": 34,
   "metadata": {
    "collapsed": false
   },
   "outputs": [
    {
     "data": {
      "text/plain": [
       "53.784500000000001"
      ]
     },
     "execution_count": 34,
     "metadata": {},
     "output_type": "execute_result"
    }
   ],
   "source": [
    "# using .ix we can retrieve close values by\n",
    "# specifying both the date and ticker\n",
    "stackedCloses.ix['2012-01-03', 'AAPL']"
   ]
  },
  {
   "cell_type": "code",
   "execution_count": 35,
   "metadata": {
    "collapsed": false
   },
   "outputs": [
    {
     "data": {
      "text/plain": [
       "Symbol\n",
       "AAPL    53.785\n",
       "MSFT    23.462\n",
       "dtype: float64"
      ]
     },
     "execution_count": 35,
     "metadata": {},
     "output_type": "execute_result"
    }
   ],
   "source": [
    "# lookup on just the date, which will give us two values\n",
    "# one each for AAPL and MSFT.  \n",
    "stackedCloses.ix['2012-01-03']"
   ]
  },
  {
   "cell_type": "code",
   "execution_count": 36,
   "metadata": {
    "collapsed": false
   },
   "outputs": [
    {
     "data": {
      "text/plain": [
       "Date\n",
       "2012-01-03    23.462\n",
       "2012-01-04    24.014\n",
       "2012-01-05    24.259\n",
       "2012-01-06    24.636\n",
       "               ...  \n",
       "2012-12-24    24.387\n",
       "2012-12-26    24.206\n",
       "2012-12-27    24.297\n",
       "2012-12-28    23.927\n",
       "dtype: float64"
      ]
     },
     "execution_count": 36,
     "metadata": {},
     "output_type": "execute_result"
    }
   ],
   "source": [
    "# this looks up all values for the MSFT symbol\n",
    "stackedCloses.ix[:, 'MSFT']"
   ]
  },
  {
   "cell_type": "code",
   "execution_count": 37,
   "metadata": {
    "collapsed": false
   },
   "outputs": [
    {
     "data": {
      "text/plain": [
       "Symbol        AAPL    MSFT\n",
       "Date                      \n",
       "2012-01-03  53.785  23.462\n",
       "2012-01-04  54.074  24.014\n",
       "2012-01-05  54.674  24.259"
      ]
     },
     "execution_count": 37,
     "metadata": {},
     "output_type": "execute_result"
    }
   ],
   "source": [
    "# pivots the last level of the index back into a column\n",
    "unstackedCloses = stackedCloses.unstack()\n",
    "unstackedCloses[:3]"
   ]
  },
  {
   "cell_type": "markdown",
   "metadata": {},
   "source": [
    "## Melting"
   ]
  },
  {
   "cell_type": "code",
   "execution_count": 38,
   "metadata": {
    "collapsed": false
   },
   "outputs": [
    {
     "data": {
      "text/plain": [
       "        Date Symbol variable   value\n",
       "0 2012-01-03   MSFT     Open   26.55\n",
       "1 2012-01-03   AAPL     Open  409.40\n",
       "2 2012-01-04   MSFT     Open   26.82\n",
       "3 2012-01-04   AAPL     Open  410.00\n",
       "4 2012-01-05   MSFT     Open   27.38"
      ]
     },
     "execution_count": 38,
     "metadata": {},
     "output_type": "execute_result"
    }
   ],
   "source": [
    "# melt making id_vars of Date and Symbol, making the \n",
    "# column names the variable and the for each the value\n",
    "melted = pd.melt(s4p, id_vars=['Date', 'Symbol'])\n",
    "melted[:5]"
   ]
  },
  {
   "cell_type": "code",
   "execution_count": 39,
   "metadata": {
    "collapsed": false
   },
   "outputs": [
    {
     "data": {
      "text/plain": [
       "           Date Symbol   variable      value\n",
       "0    2012-01-03   MSFT       Open  2.655e+01\n",
       "498  2012-01-03   MSFT       High  2.696e+01\n",
       "996  2012-01-03   MSFT        Low  2.639e+01\n",
       "1494 2012-01-03   MSFT      Close  2.677e+01\n",
       "1992 2012-01-03   MSFT     Volume  6.473e+07\n",
       "2490 2012-01-03   MSFT  Adj Close  2.346e+01"
      ]
     },
     "execution_count": 39,
     "metadata": {},
     "output_type": "execute_result"
    }
   ],
   "source": [
    "# extract the values for the data for MSFT on 2012-01-03\n",
    "melted[(melted.Date=='2012-01-03') & (melted.Symbol=='MSFT')]"
   ]
  },
  {
   "cell_type": "markdown",
   "metadata": {},
   "source": [
    "# Grouping and aggregation"
   ]
  },
  {
   "cell_type": "markdown",
   "metadata": {},
   "source": [
    "## Splitting"
   ]
  },
  {
   "cell_type": "code",
   "execution_count": 40,
   "metadata": {
    "collapsed": false
   },
   "outputs": [
    {
     "data": {
      "text/plain": [
       "        Date  Year  Month Symbol  Adj Close\n",
       "0 2012-01-03  2012      1   MSFT     23.462\n",
       "1 2012-01-03  2012      1   AAPL     53.785\n",
       "2 2012-01-04  2012      1   MSFT     24.014\n",
       "3 2012-01-04  2012      1   AAPL     54.074\n",
       "4 2012-01-05  2012      1   MSFT     24.259"
      ]
     },
     "execution_count": 40,
     "metadata": {},
     "output_type": "execute_result"
    }
   ],
   "source": [
    "# construct a DataFrame to demonstrate splitting\n",
    "# extract from combined the Symbol and AdjClose, and reset the index\n",
    "s4g = combined[['Symbol', 'Adj Close']].reset_index()\n",
    "# now, add two columns, year and month, using the year and month\n",
    "# portions of the data as integers\n",
    "s4g.insert(1, 'Year', pd.DatetimeIndex(s4g['Date']).year)\n",
    "s4g.insert(2, 'Month',pd.DatetimeIndex(s4g['Date']).month)\n",
    "s4g[:5]"
   ]
  },
  {
   "cell_type": "code",
   "execution_count": 41,
   "metadata": {
    "collapsed": false
   },
   "outputs": [
    {
     "data": {
      "text/plain": [
       "<pandas.core.groupby.DataFrameGroupBy object at 0x117d8ca90>"
      ]
     },
     "execution_count": 41,
     "metadata": {},
     "output_type": "execute_result"
    }
   ],
   "source": [
    "# group by the Symbol column\n",
    "s4g.groupby('Symbol')"
   ]
  },
  {
   "cell_type": "code",
   "execution_count": 42,
   "metadata": {
    "collapsed": false
   },
   "outputs": [
    {
     "data": {
      "text/plain": [
       "dict"
      ]
     },
     "execution_count": 42,
     "metadata": {},
     "output_type": "execute_result"
    }
   ],
   "source": [
    "# group again, but save the result this time\n",
    "grouped = s4g.groupby('Symbol')\n",
    "# the groupby object has a property groups, which shows how\n",
    "# all rows will in mapped into the groups.   \n",
    "# the type of this object is a python dict\n",
    "type(grouped.groups)"
   ]
  },
  {
   "cell_type": "code",
   "execution_count": 43,
   "metadata": {
    "collapsed": false
   },
   "outputs": [
    {
     "data": {
      "text/plain": [
       "{'AAPL': [1,\n",
       "  3,\n",
       "  5,\n",
       "  7,\n",
       "  9,\n",
       "  11,\n",
       "  13,\n",
       "  14,\n",
       "  16,\n",
       "  18,\n",
       "  20,\n",
       "  23,\n",
       "  25,\n",
       "  27,\n",
       "  29,\n",
       "  30,\n",
       "  33,\n",
       "  34,\n",
       "  37,\n",
       "  38,\n",
       "  41,\n",
       "  43,\n",
       "  45,\n",
       "  46,\n",
       "  48,\n",
       "  50,\n",
       "  53,\n",
       "  54,\n",
       "  56,\n",
       "  58,\n",
       "  61,\n",
       "  63,\n",
       "  64,\n",
       "  67,\n",
       "  69,\n",
       "  71,\n",
       "  72,\n",
       "  75,\n",
       "  77,\n",
       "  79,\n",
       "  81,\n",
       "  82,\n",
       "  84,\n",
       "  86,\n",
       "  89,\n",
       "  91,\n",
       "  92,\n",
       "  94,\n",
       "  97,\n",
       "  99,\n",
       "  100,\n",
       "  102,\n",
       "  104,\n",
       "  107,\n",
       "  109,\n",
       "  111,\n",
       "  112,\n",
       "  114,\n",
       "  116,\n",
       "  118,\n",
       "  120,\n",
       "  123,\n",
       "  125,\n",
       "  126,\n",
       "  128,\n",
       "  130,\n",
       "  132,\n",
       "  134,\n",
       "  137,\n",
       "  138,\n",
       "  140,\n",
       "  143,\n",
       "  145,\n",
       "  146,\n",
       "  148,\n",
       "  150,\n",
       "  153,\n",
       "  155,\n",
       "  156,\n",
       "  159,\n",
       "  161,\n",
       "  162,\n",
       "  165,\n",
       "  166,\n",
       "  169,\n",
       "  171,\n",
       "  173,\n",
       "  175,\n",
       "  176,\n",
       "  179,\n",
       "  181,\n",
       "  183,\n",
       "  184,\n",
       "  186,\n",
       "  189,\n",
       "  190,\n",
       "  193,\n",
       "  195,\n",
       "  197,\n",
       "  199,\n",
       "  200,\n",
       "  203,\n",
       "  205,\n",
       "  207,\n",
       "  209,\n",
       "  211,\n",
       "  212,\n",
       "  214,\n",
       "  216,\n",
       "  219,\n",
       "  221,\n",
       "  223,\n",
       "  224,\n",
       "  227,\n",
       "  228,\n",
       "  230,\n",
       "  232,\n",
       "  234,\n",
       "  237,\n",
       "  238,\n",
       "  240,\n",
       "  242,\n",
       "  244,\n",
       "  247,\n",
       "  248,\n",
       "  250,\n",
       "  252,\n",
       "  254,\n",
       "  257,\n",
       "  259,\n",
       "  261,\n",
       "  263,\n",
       "  265,\n",
       "  267,\n",
       "  269,\n",
       "  271,\n",
       "  273,\n",
       "  275,\n",
       "  277,\n",
       "  278,\n",
       "  280,\n",
       "  282,\n",
       "  285,\n",
       "  287,\n",
       "  289,\n",
       "  290,\n",
       "  293,\n",
       "  295,\n",
       "  296,\n",
       "  298,\n",
       "  301,\n",
       "  302,\n",
       "  305,\n",
       "  307,\n",
       "  308,\n",
       "  310,\n",
       "  312,\n",
       "  314,\n",
       "  316,\n",
       "  318,\n",
       "  321,\n",
       "  322,\n",
       "  324,\n",
       "  327,\n",
       "  328,\n",
       "  331,\n",
       "  333,\n",
       "  335,\n",
       "  337,\n",
       "  338,\n",
       "  340,\n",
       "  343,\n",
       "  344,\n",
       "  347,\n",
       "  348,\n",
       "  350,\n",
       "  353,\n",
       "  354,\n",
       "  357,\n",
       "  359,\n",
       "  361,\n",
       "  363,\n",
       "  364,\n",
       "  367,\n",
       "  368,\n",
       "  370,\n",
       "  372,\n",
       "  375,\n",
       "  377,\n",
       "  379,\n",
       "  380,\n",
       "  382,\n",
       "  385,\n",
       "  386,\n",
       "  389,\n",
       "  391,\n",
       "  393,\n",
       "  395,\n",
       "  396,\n",
       "  398,\n",
       "  401,\n",
       "  402,\n",
       "  405,\n",
       "  407,\n",
       "  409,\n",
       "  410,\n",
       "  412,\n",
       "  414,\n",
       "  417,\n",
       "  419,\n",
       "  420,\n",
       "  423,\n",
       "  425,\n",
       "  427,\n",
       "  428,\n",
       "  431,\n",
       "  432,\n",
       "  434,\n",
       "  436,\n",
       "  439,\n",
       "  441,\n",
       "  443,\n",
       "  444,\n",
       "  447,\n",
       "  448,\n",
       "  451,\n",
       "  452,\n",
       "  455,\n",
       "  456,\n",
       "  458,\n",
       "  460,\n",
       "  463,\n",
       "  464,\n",
       "  466,\n",
       "  468,\n",
       "  471,\n",
       "  472,\n",
       "  474,\n",
       "  476,\n",
       "  478,\n",
       "  480,\n",
       "  482,\n",
       "  484,\n",
       "  487,\n",
       "  488,\n",
       "  490,\n",
       "  492,\n",
       "  494,\n",
       "  497],\n",
       " 'MSFT': [0,\n",
       "  2,\n",
       "  4,\n",
       "  6,\n",
       "  8,\n",
       "  10,\n",
       "  12,\n",
       "  15,\n",
       "  17,\n",
       "  19,\n",
       "  21,\n",
       "  22,\n",
       "  24,\n",
       "  26,\n",
       "  28,\n",
       "  31,\n",
       "  32,\n",
       "  35,\n",
       "  36,\n",
       "  39,\n",
       "  40,\n",
       "  42,\n",
       "  44,\n",
       "  47,\n",
       "  49,\n",
       "  51,\n",
       "  52,\n",
       "  55,\n",
       "  57,\n",
       "  59,\n",
       "  60,\n",
       "  62,\n",
       "  65,\n",
       "  66,\n",
       "  68,\n",
       "  70,\n",
       "  73,\n",
       "  74,\n",
       "  76,\n",
       "  78,\n",
       "  80,\n",
       "  83,\n",
       "  85,\n",
       "  87,\n",
       "  88,\n",
       "  90,\n",
       "  93,\n",
       "  95,\n",
       "  96,\n",
       "  98,\n",
       "  101,\n",
       "  103,\n",
       "  105,\n",
       "  106,\n",
       "  108,\n",
       "  110,\n",
       "  113,\n",
       "  115,\n",
       "  117,\n",
       "  119,\n",
       "  121,\n",
       "  122,\n",
       "  124,\n",
       "  127,\n",
       "  129,\n",
       "  131,\n",
       "  133,\n",
       "  135,\n",
       "  136,\n",
       "  139,\n",
       "  141,\n",
       "  142,\n",
       "  144,\n",
       "  147,\n",
       "  149,\n",
       "  151,\n",
       "  152,\n",
       "  154,\n",
       "  157,\n",
       "  158,\n",
       "  160,\n",
       "  163,\n",
       "  164,\n",
       "  167,\n",
       "  168,\n",
       "  170,\n",
       "  172,\n",
       "  174,\n",
       "  177,\n",
       "  178,\n",
       "  180,\n",
       "  182,\n",
       "  185,\n",
       "  187,\n",
       "  188,\n",
       "  191,\n",
       "  192,\n",
       "  194,\n",
       "  196,\n",
       "  198,\n",
       "  201,\n",
       "  202,\n",
       "  204,\n",
       "  206,\n",
       "  208,\n",
       "  210,\n",
       "  213,\n",
       "  215,\n",
       "  217,\n",
       "  218,\n",
       "  220,\n",
       "  222,\n",
       "  225,\n",
       "  226,\n",
       "  229,\n",
       "  231,\n",
       "  233,\n",
       "  235,\n",
       "  236,\n",
       "  239,\n",
       "  241,\n",
       "  243,\n",
       "  245,\n",
       "  246,\n",
       "  249,\n",
       "  251,\n",
       "  253,\n",
       "  255,\n",
       "  256,\n",
       "  258,\n",
       "  260,\n",
       "  262,\n",
       "  264,\n",
       "  266,\n",
       "  268,\n",
       "  270,\n",
       "  272,\n",
       "  274,\n",
       "  276,\n",
       "  279,\n",
       "  281,\n",
       "  283,\n",
       "  284,\n",
       "  286,\n",
       "  288,\n",
       "  291,\n",
       "  292,\n",
       "  294,\n",
       "  297,\n",
       "  299,\n",
       "  300,\n",
       "  303,\n",
       "  304,\n",
       "  306,\n",
       "  309,\n",
       "  311,\n",
       "  313,\n",
       "  315,\n",
       "  317,\n",
       "  319,\n",
       "  320,\n",
       "  323,\n",
       "  325,\n",
       "  326,\n",
       "  329,\n",
       "  330,\n",
       "  332,\n",
       "  334,\n",
       "  336,\n",
       "  339,\n",
       "  341,\n",
       "  342,\n",
       "  345,\n",
       "  346,\n",
       "  349,\n",
       "  351,\n",
       "  352,\n",
       "  355,\n",
       "  356,\n",
       "  358,\n",
       "  360,\n",
       "  362,\n",
       "  365,\n",
       "  366,\n",
       "  369,\n",
       "  371,\n",
       "  373,\n",
       "  374,\n",
       "  376,\n",
       "  378,\n",
       "  381,\n",
       "  383,\n",
       "  384,\n",
       "  387,\n",
       "  388,\n",
       "  390,\n",
       "  392,\n",
       "  394,\n",
       "  397,\n",
       "  399,\n",
       "  400,\n",
       "  403,\n",
       "  404,\n",
       "  406,\n",
       "  408,\n",
       "  411,\n",
       "  413,\n",
       "  415,\n",
       "  416,\n",
       "  418,\n",
       "  421,\n",
       "  422,\n",
       "  424,\n",
       "  426,\n",
       "  429,\n",
       "  430,\n",
       "  433,\n",
       "  435,\n",
       "  437,\n",
       "  438,\n",
       "  440,\n",
       "  442,\n",
       "  445,\n",
       "  446,\n",
       "  449,\n",
       "  450,\n",
       "  453,\n",
       "  454,\n",
       "  457,\n",
       "  459,\n",
       "  461,\n",
       "  462,\n",
       "  465,\n",
       "  467,\n",
       "  469,\n",
       "  470,\n",
       "  473,\n",
       "  475,\n",
       "  477,\n",
       "  479,\n",
       "  481,\n",
       "  483,\n",
       "  485,\n",
       "  486,\n",
       "  489,\n",
       "  491,\n",
       "  493,\n",
       "  495,\n",
       "  496]}"
      ]
     },
     "execution_count": 43,
     "metadata": {},
     "output_type": "execute_result"
    }
   ],
   "source": [
    "# show the mappings of rows to groups\n",
    "grouped.groups"
   ]
  },
  {
   "cell_type": "code",
   "execution_count": 44,
   "metadata": {
    "collapsed": false
   },
   "outputs": [
    {
     "data": {
      "text/plain": [
       "(2, 2)"
      ]
     },
     "execution_count": 44,
     "metadata": {},
     "output_type": "execute_result"
    }
   ],
   "source": [
    "# these report the number of groups that resulted from\n",
    "# the grouping\n",
    "len(grouped), grouped.ngroups"
   ]
  },
  {
   "cell_type": "code",
   "execution_count": 45,
   "metadata": {
    "collapsed": false
   },
   "outputs": [],
   "source": [
    "# this function will print the contents of a group\n",
    "def print_groups (groupobject):\n",
    "    for name, group in groupobject:\n",
    "        print name\n",
    "        print group.head()"
   ]
  },
  {
   "cell_type": "code",
   "execution_count": 46,
   "metadata": {
    "collapsed": false
   },
   "outputs": [
    {
     "name": "stdout",
     "output_type": "stream",
     "text": [
      "AAPL\n",
      "        Date  Year  Month Symbol  Adj Close\n",
      "1 2012-01-03  2012      1   AAPL     53.785\n",
      "3 2012-01-04  2012      1   AAPL     54.074\n",
      "5 2012-01-05  2012      1   AAPL     54.674\n",
      "7 2012-01-06  2012      1   AAPL     55.245\n",
      "9 2012-01-09  2012      1   AAPL     55.158\n",
      "MSFT\n",
      "        Date  Year  Month Symbol  Adj Close\n",
      "0 2012-01-03  2012      1   MSFT     23.462\n",
      "2 2012-01-04  2012      1   MSFT     24.014\n",
      "4 2012-01-05  2012      1   MSFT     24.259\n",
      "6 2012-01-06  2012      1   MSFT     24.636\n",
      "8 2012-01-09  2012      1   MSFT     24.312\n"
     ]
    }
   ],
   "source": [
    "# examine our resulting groups\n",
    "print_groups(grouped)"
   ]
  },
  {
   "cell_type": "code",
   "execution_count": 47,
   "metadata": {
    "collapsed": false
   },
   "outputs": [
    {
     "data": {
      "text/plain": [
       "Symbol\n",
       "AAPL    249\n",
       "MSFT    249\n",
       "dtype: int64"
      ]
     },
     "execution_count": 47,
     "metadata": {},
     "output_type": "execute_result"
    }
   ],
   "source": [
    "# .size will tell us the count of items in each group\n",
    "grouped.size()"
   ]
  },
  {
   "cell_type": "code",
   "execution_count": 48,
   "metadata": {
    "collapsed": false
   },
   "outputs": [
    {
     "data": {
      "text/plain": [
       "          Date  Year  Month Symbol  Adj Close\n",
       "0   2012-01-03  2012      1   MSFT     23.462\n",
       "2   2012-01-04  2012      1   MSFT     24.014\n",
       "4   2012-01-05  2012      1   MSFT     24.259\n",
       "6   2012-01-06  2012      1   MSFT     24.636\n",
       "..         ...   ...    ...    ...        ...\n",
       "491 2012-12-24  2012     12   MSFT     24.387\n",
       "493 2012-12-26  2012     12   MSFT     24.206\n",
       "495 2012-12-27  2012     12   MSFT     24.297\n",
       "496 2012-12-28  2012     12   MSFT     23.927\n",
       "\n",
       "[249 rows x 5 columns]"
      ]
     },
     "execution_count": 48,
     "metadata": {},
     "output_type": "execute_result"
    }
   ],
   "source": [
    "# a specific group can be retrieved using .get_group()\n",
    "# which returns a DataFrame representing the specified group\n",
    "grouped.get_group('MSFT')"
   ]
  },
  {
   "cell_type": "code",
   "execution_count": 50,
   "metadata": {
    "collapsed": false
   },
   "outputs": [
    {
     "name": "stdout",
     "output_type": "stream",
     "text": [
      "('AAPL', 2012, 1)\n",
      "        Date  Year  Month Symbol  Adj Close\n",
      "1 2012-01-03  2012      1   AAPL     53.785\n",
      "3 2012-01-04  2012      1   AAPL     54.074\n",
      "5 2012-01-05  2012      1   AAPL     54.674\n",
      "7 2012-01-06  2012      1   AAPL     55.245\n",
      "9 2012-01-09  2012      1   AAPL     55.158\n",
      "('AAPL', 2012, 2)\n",
      "         Date  Year  Month Symbol  Adj Close\n",
      "41 2012-02-01  2012      2   AAPL     59.665\n",
      "43 2012-02-02  2012      2   AAPL     59.525\n",
      "45 2012-02-03  2012      2   AAPL     60.121\n",
      "46 2012-02-06  2012      2   AAPL     60.682\n",
      "48 2012-02-07  2012      2   AAPL     61.318\n",
      "('AAPL', 2012, 3)\n",
      "         Date  Year  Month Symbol  Adj Close\n",
      "81 2012-03-01  2012      3   AAPL     71.211\n",
      "82 2012-03-02  2012      3   AAPL     71.304\n",
      "84 2012-03-05  2012      3   AAPL     69.732\n",
      "86 2012-03-06  2012      3   AAPL     69.352\n",
      "89 2012-03-07  2012      3   AAPL     69.409\n",
      "('AAPL', 2012, 4)\n",
      "          Date  Year  Month Symbol  Adj Close\n",
      "125 2012-04-02  2012      4   AAPL     80.910\n",
      "126 2012-04-03  2012      4   AAPL     82.308\n",
      "128 2012-04-04  2012      4   AAPL     81.653\n",
      "130 2012-04-05  2012      4   AAPL     82.879\n",
      "132 2012-04-09  2012      4   AAPL     83.212\n",
      "('AAPL', 2012, 5)\n",
      "          Date  Year  Month Symbol  Adj Close\n",
      "165 2012-05-01  2012      5   AAPL     76.136\n",
      "166 2012-05-02  2012      5   AAPL     76.640\n",
      "169 2012-05-03  2012      5   AAPL     76.096\n",
      "171 2012-05-04  2012      5   AAPL     73.929\n",
      "173 2012-05-07  2012      5   AAPL     74.482\n",
      "('AAPL', 2012, 6)\n",
      "          Date  Year  Month Symbol  Adj Close\n",
      "209 2012-06-01  2012      6   AAPL     73.372\n",
      "211 2012-06-04  2012      6   AAPL     73.803\n",
      "212 2012-06-05  2012      6   AAPL     73.612\n",
      "214 2012-06-06  2012      6   AAPL     74.741\n",
      "216 2012-06-07  2012      6   AAPL     74.775\n",
      "('AAPL', 2012, 7)\n",
      "          Date  Year  Month Symbol  Adj Close\n",
      "250 2012-07-02  2012      7   AAPL     77.495\n",
      "252 2012-07-03  2012      7   AAPL     78.396\n",
      "254 2012-07-05  2012      7   AAPL     79.774\n",
      "257 2012-07-06  2012      7   AAPL     79.243\n",
      "259 2012-07-09  2012      7   AAPL     80.290\n",
      "('AAPL', 2012, 8)\n",
      "          Date  Year  Month Symbol  Adj Close\n",
      "293 2012-08-01  2012      8   AAPL     79.364\n",
      "295 2012-08-02  2012      8   AAPL     79.492\n",
      "296 2012-08-03  2012      8   AAPL     80.527\n",
      "298 2012-08-06  2012      8   AAPL     81.423\n",
      "301 2012-08-07  2012      8   AAPL     81.208\n",
      "('AAPL', 2012, 9)\n",
      "          Date  Year  Month Symbol  Adj Close\n",
      "338 2012-09-04  2012      9   AAPL     88.658\n",
      "340 2012-09-05  2012      9   AAPL     88.035\n",
      "343 2012-09-06  2012      9   AAPL     88.829\n",
      "344 2012-09-07  2012      9   AAPL     89.376\n",
      "347 2012-09-10  2012      9   AAPL     87.051\n",
      "('AAPL', 2012, 10)\n",
      "          Date  Year  Month Symbol  Adj Close\n",
      "377 2012-10-01  2012     10   AAPL     86.611\n",
      "379 2012-10-02  2012     10   AAPL     86.864\n",
      "380 2012-10-03  2012     10   AAPL     88.196\n",
      "382 2012-10-04  2012     10   AAPL     87.585\n",
      "385 2012-10-05  2012     10   AAPL     85.718\n",
      "('AAPL', 2012, 11)\n",
      "          Date  Year  Month Symbol  Adj Close\n",
      "419 2012-11-01  2012     11   AAPL     78.356\n",
      "420 2012-11-02  2012     11   AAPL     75.763\n",
      "423 2012-11-05  2012     11   AAPL     76.790\n",
      "425 2012-11-06  2012     11   AAPL     76.558\n",
      "427 2012-11-07  2012     11   AAPL     73.629\n",
      "('AAPL', 2012, 12)\n",
      "          Date  Year  Month Symbol  Adj Close\n",
      "460 2012-12-03  2012     12   AAPL     77.348\n",
      "463 2012-12-04  2012     12   AAPL     75.984\n",
      "464 2012-12-05  2012     12   AAPL     71.094\n",
      "466 2012-12-06  2012     12   AAPL     72.209\n",
      "468 2012-12-07  2012     12   AAPL     70.363\n",
      "('MSFT', 2012, 1)\n",
      "        Date  Year  Month Symbol  Adj Close\n",
      "0 2012-01-03  2012      1   MSFT     23.462\n",
      "2 2012-01-04  2012      1   MSFT     24.014\n",
      "4 2012-01-05  2012      1   MSFT     24.259\n",
      "6 2012-01-06  2012      1   MSFT     24.636\n",
      "8 2012-01-09  2012      1   MSFT     24.312\n",
      "('MSFT', 2012, 2)\n",
      "         Date  Year  Month Symbol  Adj Close\n",
      "40 2012-02-01  2012      2   MSFT     26.196\n",
      "42 2012-02-02  2012      2   MSFT     26.249\n",
      "44 2012-02-03  2012      2   MSFT     26.503\n",
      "47 2012-02-06  2012      2   MSFT     26.468\n",
      "49 2012-02-07  2012      2   MSFT     26.599\n",
      "('MSFT', 2012, 3)\n",
      "         Date  Year  Month Symbol  Adj Close\n",
      "80 2012-03-01  2012      3   MSFT     28.486\n",
      "83 2012-03-02  2012      3   MSFT     28.301\n",
      "85 2012-03-05  2012      3   MSFT     28.054\n",
      "87 2012-03-06  2012      3   MSFT     27.842\n",
      "88 2012-03-07  2012      3   MSFT     28.089\n",
      "('MSFT', 2012, 4)\n",
      "          Date  Year  Month Symbol  Adj Close\n",
      "124 2012-04-02  2012      4   MSFT     28.486\n",
      "127 2012-04-03  2012      4   MSFT     28.177\n",
      "129 2012-04-04  2012      4   MSFT     27.533\n",
      "131 2012-04-05  2012      4   MSFT     27.807\n",
      "133 2012-04-09  2012      4   MSFT     27.436\n",
      "('MSFT', 2012, 5)\n",
      "          Date  Year  Month Symbol  Adj Close\n",
      "164 2012-05-01  2012      5   MSFT     28.239\n",
      "167 2012-05-02  2012      5   MSFT     28.054\n",
      "168 2012-05-03  2012      5   MSFT     28.018\n",
      "170 2012-05-04  2012      5   MSFT     27.330\n",
      "172 2012-05-07  2012      5   MSFT     27.039\n",
      "('MSFT', 2012, 6)\n",
      "          Date  Year  Month Symbol  Adj Close\n",
      "208 2012-06-01  2012      6   MSFT     25.263\n",
      "210 2012-06-04  2012      6   MSFT     25.352\n",
      "213 2012-06-05  2012      6   MSFT     25.316\n",
      "215 2012-06-06  2012      6   MSFT     26.062\n",
      "217 2012-06-07  2012      6   MSFT     25.956\n",
      "('MSFT', 2012, 7)\n",
      "          Date  Year  Month Symbol  Adj Close\n",
      "251 2012-07-02  2012      7   MSFT     27.137\n",
      "253 2012-07-03  2012      7   MSFT     27.314\n",
      "255 2012-07-05  2012      7   MSFT     27.261\n",
      "256 2012-07-06  2012      7   MSFT     26.808\n",
      "258 2012-07-09  2012      7   MSFT     26.639\n",
      "('MSFT', 2012, 8)\n",
      "          Date  Year  Month Symbol  Adj Close\n",
      "292 2012-08-01  2012      8   MSFT     26.115\n",
      "294 2012-08-02  2012      8   MSFT     25.920\n",
      "297 2012-08-03  2012      8   MSFT     26.417\n",
      "299 2012-08-06  2012      8   MSFT     26.595\n",
      "300 2012-08-07  2012      8   MSFT     26.870\n",
      "('MSFT', 2012, 9)\n",
      "          Date  Year  Month Symbol  Adj Close\n",
      "339 2012-09-04  2012      9   MSFT     27.164\n",
      "341 2012-09-05  2012      9   MSFT     27.164\n",
      "342 2012-09-06  2012      9   MSFT     28.023\n",
      "345 2012-09-07  2012      9   MSFT     27.665\n",
      "346 2012-09-10  2012      9   MSFT     27.459\n",
      "('MSFT', 2012, 10)\n",
      "          Date  Year  Month Symbol  Adj Close\n",
      "376 2012-10-01  2012     10   MSFT     26.360\n",
      "378 2012-10-02  2012     10   MSFT     26.512\n",
      "381 2012-10-03  2012     10   MSFT     26.691\n",
      "383 2012-10-04  2012     10   MSFT     26.843\n",
      "384 2012-10-05  2012     10   MSFT     26.682\n",
      "('MSFT', 2012, 11)\n",
      "          Date  Year  Month Symbol  Adj Close\n",
      "418 2012-11-01  2012     11   MSFT     26.387\n",
      "421 2012-11-02  2012     11   MSFT     26.369\n",
      "422 2012-11-05  2012     11   MSFT     26.485\n",
      "424 2012-11-06  2012     11   MSFT     26.691\n",
      "426 2012-11-07  2012     11   MSFT     25.993\n",
      "('MSFT', 2012, 12)\n",
      "          Date  Year  Month Symbol  Adj Close\n",
      "461 2012-12-03  2012     12   MSFT     23.819\n",
      "462 2012-12-04  2012     12   MSFT     23.765\n",
      "465 2012-12-05  2012     12   MSFT     24.035\n",
      "467 2012-12-06  2012     12   MSFT     24.089\n",
      "469 2012-12-07  2012     12   MSFT     23.846\n"
     ]
    }
   ],
   "source": [
    "# group by three different fields and print the result\n",
    "mcg = s4g.groupby(['Symbol', 'Year', 'Month'])\n",
    "print_groups(mcg)"
   ]
  },
  {
   "cell_type": "code",
   "execution_count": 51,
   "metadata": {
    "collapsed": false
   },
   "outputs": [
    {
     "data": {
      "text/plain": [
       "                        Date  Adj Close\n",
       "Symbol Year Month                      \n",
       "MSFT   2012 1     2012-01-03     23.462\n",
       "AAPL   2012 1     2012-01-03     53.785\n",
       "MSFT   2012 1     2012-01-04     24.014\n",
       "AAPL   2012 1     2012-01-04     54.074\n",
       "...                      ...        ...\n",
       "            12    2012-12-27     67.963\n",
       "MSFT   2012 12    2012-12-27     24.297\n",
       "            12    2012-12-28     23.927\n",
       "AAPL   2012 12    2012-12-28     67.241\n",
       "\n",
       "[498 rows x 2 columns]"
      ]
     },
     "execution_count": 51,
     "metadata": {},
     "output_type": "execute_result"
    }
   ],
   "source": [
    "# set the index of the data to be the following three fields\n",
    "# we are creating a multiindex\n",
    "mi = s4g.set_index(['Symbol', 'Year', 'Month'])\n",
    "mi"
   ]
  },
  {
   "cell_type": "code",
   "execution_count": 52,
   "metadata": {
    "collapsed": false
   },
   "outputs": [
    {
     "name": "stdout",
     "output_type": "stream",
     "text": [
      "AAPL\n",
      "                        Date  Adj Close\n",
      "Symbol Year Month                      \n",
      "AAPL   2012 1     2012-01-03     53.785\n",
      "            1     2012-01-04     54.074\n",
      "            1     2012-01-05     54.674\n",
      "            1     2012-01-06     55.245\n",
      "            1     2012-01-09     55.158\n",
      "MSFT\n",
      "                        Date  Adj Close\n",
      "Symbol Year Month                      \n",
      "MSFT   2012 1     2012-01-03     23.462\n",
      "            1     2012-01-04     24.014\n",
      "            1     2012-01-05     24.259\n",
      "            1     2012-01-06     24.636\n",
      "            1     2012-01-09     24.312\n"
     ]
    }
   ],
   "source": [
    "# now we can group based upon values in the actual index\n",
    "# the following groups by level 0 of the index (Month)\n",
    "mig_l1 = mi.groupby(level=0)\n",
    "print_groups(mig_l1)"
   ]
  },
  {
   "cell_type": "code",
   "execution_count": 53,
   "metadata": {
    "collapsed": false
   },
   "outputs": [
    {
     "name": "stdout",
     "output_type": "stream",
     "text": [
      "('AAPL', 2012, 1)\n",
      "                        Date  Adj Close\n",
      "Symbol Year Month                      \n",
      "AAPL   2012 1     2012-01-03     53.785\n",
      "            1     2012-01-04     54.074\n",
      "            1     2012-01-05     54.674\n",
      "            1     2012-01-06     55.245\n",
      "            1     2012-01-09     55.158\n",
      "('AAPL', 2012, 2)\n",
      "                        Date  Adj Close\n",
      "Symbol Year Month                      \n",
      "AAPL   2012 2     2012-02-01     59.665\n",
      "            2     2012-02-02     59.525\n",
      "            2     2012-02-03     60.121\n",
      "            2     2012-02-06     60.682\n",
      "            2     2012-02-07     61.318\n",
      "('AAPL', 2012, 3)\n",
      "                        Date  Adj Close\n",
      "Symbol Year Month                      \n",
      "AAPL   2012 3     2012-03-01     71.211\n",
      "            3     2012-03-02     71.304\n",
      "            3     2012-03-05     69.732\n",
      "            3     2012-03-06     69.352\n",
      "            3     2012-03-07     69.409\n",
      "('AAPL', 2012, 4)\n",
      "                        Date  Adj Close\n",
      "Symbol Year Month                      \n",
      "AAPL   2012 4     2012-04-02     80.910\n",
      "            4     2012-04-03     82.308\n",
      "            4     2012-04-04     81.653\n",
      "            4     2012-04-05     82.879\n",
      "            4     2012-04-09     83.212\n",
      "('AAPL', 2012, 5)\n",
      "                        Date  Adj Close\n",
      "Symbol Year Month                      \n",
      "AAPL   2012 5     2012-05-01     76.136\n",
      "            5     2012-05-02     76.640\n",
      "            5     2012-05-03     76.096\n",
      "            5     2012-05-04     73.929\n",
      "            5     2012-05-07     74.482\n",
      "('AAPL', 2012, 6)\n",
      "                        Date  Adj Close\n",
      "Symbol Year Month                      \n",
      "AAPL   2012 6     2012-06-01     73.372\n",
      "            6     2012-06-04     73.803\n",
      "            6     2012-06-05     73.612\n",
      "            6     2012-06-06     74.741\n",
      "            6     2012-06-07     74.775\n",
      "('AAPL', 2012, 7)\n",
      "                        Date  Adj Close\n",
      "Symbol Year Month                      \n",
      "AAPL   2012 7     2012-07-02     77.495\n",
      "            7     2012-07-03     78.396\n",
      "            7     2012-07-05     79.774\n",
      "            7     2012-07-06     79.243\n",
      "            7     2012-07-09     80.290\n",
      "('AAPL', 2012, 8)\n",
      "                        Date  Adj Close\n",
      "Symbol Year Month                      \n",
      "AAPL   2012 8     2012-08-01     79.364\n",
      "            8     2012-08-02     79.492\n",
      "            8     2012-08-03     80.527\n",
      "            8     2012-08-06     81.423\n",
      "            8     2012-08-07     81.208\n",
      "('AAPL', 2012, 9)\n",
      "                        Date  Adj Close\n",
      "Symbol Year Month                      \n",
      "AAPL   2012 9     2012-09-04     88.658\n",
      "            9     2012-09-05     88.035\n",
      "            9     2012-09-06     88.829\n",
      "            9     2012-09-07     89.376\n",
      "            9     2012-09-10     87.051\n",
      "('AAPL', 2012, 10)\n",
      "                        Date  Adj Close\n",
      "Symbol Year Month                      \n",
      "AAPL   2012 10    2012-10-01     86.611\n",
      "            10    2012-10-02     86.864\n",
      "            10    2012-10-03     88.196\n",
      "            10    2012-10-04     87.585\n",
      "            10    2012-10-05     85.718\n",
      "('AAPL', 2012, 11)\n",
      "                        Date  Adj Close\n",
      "Symbol Year Month                      \n",
      "AAPL   2012 11    2012-11-01     78.356\n",
      "            11    2012-11-02     75.763\n",
      "            11    2012-11-05     76.790\n",
      "            11    2012-11-06     76.558\n",
      "            11    2012-11-07     73.629\n",
      "('AAPL', 2012, 12)\n",
      "                        Date  Adj Close\n",
      "Symbol Year Month                      \n",
      "AAPL   2012 12    2012-12-03     77.348\n",
      "            12    2012-12-04     75.984\n",
      "            12    2012-12-05     71.094\n",
      "            12    2012-12-06     72.209\n",
      "            12    2012-12-07     70.363\n",
      "('MSFT', 2012, 1)\n",
      "                        Date  Adj Close\n",
      "Symbol Year Month                      \n",
      "MSFT   2012 1     2012-01-03     23.462\n",
      "            1     2012-01-04     24.014\n",
      "            1     2012-01-05     24.259\n",
      "            1     2012-01-06     24.636\n",
      "            1     2012-01-09     24.312\n",
      "('MSFT', 2012, 2)\n",
      "                        Date  Adj Close\n",
      "Symbol Year Month                      \n",
      "MSFT   2012 2     2012-02-01     26.196\n",
      "            2     2012-02-02     26.249\n",
      "            2     2012-02-03     26.503\n",
      "            2     2012-02-06     26.468\n",
      "            2     2012-02-07     26.599\n",
      "('MSFT', 2012, 3)\n",
      "                        Date  Adj Close\n",
      "Symbol Year Month                      \n",
      "MSFT   2012 3     2012-03-01     28.486\n",
      "            3     2012-03-02     28.301\n",
      "            3     2012-03-05     28.054\n",
      "            3     2012-03-06     27.842\n",
      "            3     2012-03-07     28.089\n",
      "('MSFT', 2012, 4)\n",
      "                        Date  Adj Close\n",
      "Symbol Year Month                      \n",
      "MSFT   2012 4     2012-04-02     28.486\n",
      "            4     2012-04-03     28.177\n",
      "            4     2012-04-04     27.533\n",
      "            4     2012-04-05     27.807\n",
      "            4     2012-04-09     27.436\n",
      "('MSFT', 2012, 5)\n",
      "                        Date  Adj Close\n",
      "Symbol Year Month                      \n",
      "MSFT   2012 5     2012-05-01     28.239\n",
      "            5     2012-05-02     28.054\n",
      "            5     2012-05-03     28.018\n",
      "            5     2012-05-04     27.330\n",
      "            5     2012-05-07     27.039\n",
      "('MSFT', 2012, 6)\n",
      "                        Date  Adj Close\n",
      "Symbol Year Month                      \n",
      "MSFT   2012 6     2012-06-01     25.263\n",
      "            6     2012-06-04     25.352\n",
      "            6     2012-06-05     25.316\n",
      "            6     2012-06-06     26.062\n",
      "            6     2012-06-07     25.956\n",
      "('MSFT', 2012, 7)\n",
      "                        Date  Adj Close\n",
      "Symbol Year Month                      \n",
      "MSFT   2012 7     2012-07-02     27.137\n",
      "            7     2012-07-03     27.314\n",
      "            7     2012-07-05     27.261\n",
      "            7     2012-07-06     26.808\n",
      "            7     2012-07-09     26.639\n",
      "('MSFT', 2012, 8)\n",
      "                        Date  Adj Close\n",
      "Symbol Year Month                      \n",
      "MSFT   2012 8     2012-08-01     26.115\n",
      "            8     2012-08-02     25.920\n",
      "            8     2012-08-03     26.417\n",
      "            8     2012-08-06     26.595\n",
      "            8     2012-08-07     26.870\n",
      "('MSFT', 2012, 9)\n",
      "                        Date  Adj Close\n",
      "Symbol Year Month                      \n",
      "MSFT   2012 9     2012-09-04     27.164\n",
      "            9     2012-09-05     27.164\n",
      "            9     2012-09-06     28.023\n",
      "            9     2012-09-07     27.665\n",
      "            9     2012-09-10     27.459\n",
      "('MSFT', 2012, 10)\n",
      "                        Date  Adj Close\n",
      "Symbol Year Month                      \n",
      "MSFT   2012 10    2012-10-01     26.360\n",
      "            10    2012-10-02     26.512\n",
      "            10    2012-10-03     26.691\n",
      "            10    2012-10-04     26.843\n",
      "            10    2012-10-05     26.682\n",
      "('MSFT', 2012, 11)\n",
      "                        Date  Adj Close\n",
      "Symbol Year Month                      \n",
      "MSFT   2012 11    2012-11-01     26.387\n",
      "            11    2012-11-02     26.369\n",
      "            11    2012-11-05     26.485\n",
      "            11    2012-11-06     26.691\n",
      "            11    2012-11-07     25.993\n",
      "('MSFT', 2012, 12)\n",
      "                        Date  Adj Close\n",
      "Symbol Year Month                      \n",
      "MSFT   2012 12    2012-12-03     23.819\n",
      "            12    2012-12-04     23.765\n",
      "            12    2012-12-05     24.035\n",
      "            12    2012-12-06     24.089\n",
      "            12    2012-12-07     23.846\n"
     ]
    }
   ],
   "source": [
    "# group by three levels in the index using their names\n",
    "mig_l12 = mi.groupby(level=['Symbol', 'Year', 'Month'])\n",
    "print_groups(mig_l12)"
   ]
  },
  {
   "cell_type": "markdown",
   "metadata": {},
   "source": [
    "# Aggregation"
   ]
  },
  {
   "cell_type": "code",
   "execution_count": 54,
   "metadata": {
    "collapsed": false
   },
   "outputs": [
    {
     "data": {
      "text/plain": [
       "                   Adj Close\n",
       "Symbol Year Month           \n",
       "AAPL   2012 1         56.053\n",
       "            2         65.077\n",
       "            3         75.532\n",
       "            4         79.259\n",
       "...                      ...\n",
       "MSFT   2012 9         27.515\n",
       "            10        25.981\n",
       "            11        24.983\n",
       "            12        24.314\n",
       "\n",
       "[24 rows x 1 columns]"
      ]
     },
     "execution_count": 54,
     "metadata": {},
     "output_type": "execute_result"
    }
   ],
   "source": [
    "# this will apply the mean function to each group\n",
    "mig_l12.agg(np.mean)"
   ]
  },
  {
   "cell_type": "code",
   "execution_count": 55,
   "metadata": {
    "collapsed": false
   },
   "outputs": [
    {
     "data": {
      "text/plain": [
       "  Symbol  Year  Month  Adj Close\n",
       "0   AAPL  2012      1     56.053\n",
       "1   AAPL  2012      2     65.077\n",
       "2   AAPL  2012      3     75.532\n",
       "3   AAPL  2012      4     79.259\n",
       "4   AAPL  2012      5     73.853"
      ]
     },
     "execution_count": 55,
     "metadata": {},
     "output_type": "execute_result"
    }
   ],
   "source": [
    "# example of groupby that also ignores the index\n",
    "# resulting in a default integer index\n",
    "# this also has the mean function applied\n",
    "s4g.groupby(['Symbol', 'Year', 'Month'], \n",
    "            as_index=False).agg(np.mean)[:5]"
   ]
  },
  {
   "cell_type": "code",
   "execution_count": 56,
   "metadata": {
    "collapsed": false
   },
   "outputs": [
    {
     "data": {
      "text/plain": [
       "                  Adj Close       \n",
       "                       mean    std\n",
       "Symbol Year Month                 \n",
       "AAPL   2012 1        56.053  1.745\n",
       "            2        65.077  3.465\n",
       "            3        75.532  4.040\n",
       "            4        79.259  2.973\n",
       "...                     ...    ...\n",
       "MSFT   2012 9        27.515  0.414\n",
       "            10       25.981  0.640\n",
       "            11       24.983  0.962\n",
       "            12       24.314  0.350\n",
       "\n",
       "[24 rows x 2 columns]"
      ]
     },
     "execution_count": 56,
     "metadata": {},
     "output_type": "execute_result"
    }
   ],
   "source": [
    "# apply multiple functions to each group in one call\n",
    "mig_l12.agg([np.mean, np.std])"
   ]
  },
  {
   "cell_type": "code",
   "execution_count": null,
   "metadata": {
    "collapsed": true
   },
   "outputs": [],
   "source": []
  }
 ],
 "metadata": {
  "kernelspec": {
   "display_name": "Python [timbr]",
   "language": "python",
   "name": "Python [timbr]"
  },
  "language_info": {
   "codemirror_mode": {
    "name": "ipython",
    "version": 2
   },
   "file_extension": ".py",
   "mimetype": "text/x-python",
   "name": "python",
   "nbconvert_exporter": "python",
   "pygments_lexer": "ipython2",
   "version": "2.7.12"
  },
  "timbr_enabled": true
 },
 "nbformat": 4,
 "nbformat_minor": 0
}
